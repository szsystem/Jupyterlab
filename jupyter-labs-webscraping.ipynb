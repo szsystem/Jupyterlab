{
 "cells": [
  {
   "cell_type": "markdown",
   "metadata": {},
   "source": [
    "<p style=\"text-align:center\">\n",
    "    <a href=\"https://skills.network\" target=\"_blank\">\n",
    "    <img src=\"https://cf-courses-data.s3.us.cloud-object-storage.appdomain.cloud/assets/logos/SN_web_lightmode.png\" width=\"200\" alt=\"Skills Network Logo\">\n",
    "    </a>\n",
    "</p>\n"
   ]
  },
  {
   "cell_type": "markdown",
   "metadata": {},
   "source": [
    "# **Space X  Falcon 9 First Stage Landing Prediction**\n"
   ]
  },
  {
   "cell_type": "markdown",
   "metadata": {},
   "source": [
    "## Web scraping Falcon 9 and Falcon Heavy Launches Records from Wikipedia\n"
   ]
  },
  {
   "cell_type": "markdown",
   "metadata": {},
   "source": [
    "Estimated time needed: **40** minutes\n"
   ]
  },
  {
   "cell_type": "markdown",
   "metadata": {},
   "source": [
    "In this lab, you will be performing web scraping to collect Falcon 9 historical launch records from a Wikipedia page titled `List of Falcon 9 and Falcon Heavy launches`\n",
    "\n",
    "https://en.wikipedia.org/wiki/List_of_Falcon_9_and_Falcon_Heavy_launches\n"
   ]
  },
  {
   "cell_type": "markdown",
   "metadata": {},
   "source": [
    "![](https://cf-courses-data.s3.us.cloud-object-storage.appdomain.cloud/IBM-DS0321EN-SkillsNetwork/labs/module_1_L2/images/Falcon9_rocket_family.svg)\n"
   ]
  },
  {
   "cell_type": "markdown",
   "metadata": {},
   "source": [
    "Falcon 9 first stage will land successfully\n"
   ]
  },
  {
   "cell_type": "markdown",
   "metadata": {},
   "source": [
    "![](https://cf-courses-data.s3.us.cloud-object-storage.appdomain.cloud/IBMDeveloperSkillsNetwork-DS0701EN-SkillsNetwork/api/Images/landing_1.gif)\n"
   ]
  },
  {
   "cell_type": "markdown",
   "metadata": {},
   "source": [
    "Several examples of an unsuccessful landing are shown here:\n"
   ]
  },
  {
   "cell_type": "markdown",
   "metadata": {},
   "source": [
    "![](https://cf-courses-data.s3.us.cloud-object-storage.appdomain.cloud/IBMDeveloperSkillsNetwork-DS0701EN-SkillsNetwork/api/Images/crash.gif)\n"
   ]
  },
  {
   "cell_type": "markdown",
   "metadata": {},
   "source": [
    "More specifically, the launch records are stored in a HTML table shown below:\n"
   ]
  },
  {
   "cell_type": "markdown",
   "metadata": {},
   "source": [
    "![](https://cf-courses-data.s3.us.cloud-object-storage.appdomain.cloud/IBM-DS0321EN-SkillsNetwork/labs/module_1_L2/images/falcon9-launches-wiki.png)\n"
   ]
  },
  {
   "cell_type": "markdown",
   "metadata": {},
   "source": [
    "  ## Objectives\n",
    "Web scrap Falcon 9 launch records with `BeautifulSoup`: \n",
    "- Extract a Falcon 9 launch records HTML table from Wikipedia\n",
    "- Parse the table and convert it into a Pandas data frame\n"
   ]
  },
  {
   "cell_type": "markdown",
   "metadata": {},
   "source": [
    "First let's import required packages for this lab\n"
   ]
  },
  {
   "cell_type": "code",
   "execution_count": null,
   "metadata": {},
   "outputs": [],
   "source": [
    "!pip3 install beautifulsoup4\n",
    "!pip3 install requests"
   ]
  },
  {
   "cell_type": "code",
   "execution_count": 1,
   "metadata": {},
   "outputs": [],
   "source": [
    "import sys\n",
    "\n",
    "import requests\n",
    "from bs4 import BeautifulSoup\n",
    "import re\n",
    "import unicodedata\n",
    "import pandas as pd\n",
    "\n",
    "import re"
   ]
  },
  {
   "cell_type": "markdown",
   "metadata": {},
   "source": [
    "and we will provide some helper functions for you to process web scraped HTML table\n"
   ]
  },
  {
   "cell_type": "code",
   "execution_count": 16,
   "metadata": {
    "editable": true,
    "slideshow": {
     "slide_type": ""
    },
    "tags": []
   },
   "outputs": [],
   "source": [
    "def date_time(table_cells):\n",
    "    \"\"\"\n",
    "    This function returns the data and time from the HTML  table cell\n",
    "    Input: the  element of a table data cell extracts extra row\n",
    "    \"\"\"\n",
    "    return [data_time.strip() for data_time in list(table_cells.strings)][0:2]\n",
    "\n",
    "def booster_version(table_cells):\n",
    "    \"\"\"\n",
    "    This function returns the booster version from the HTML  table cell \n",
    "    Input: the  element of a table data cell extracts extra row\n",
    "    \"\"\"\n",
    "    out=''.join([booster_version for i,booster_version in enumerate( table_cells.strings) if i%2==0][0:-1])\n",
    "    return out\n",
    "\n",
    "def landing_status(table_cells):\n",
    "    \"\"\"\n",
    "    This function returns the landing status from the HTML table cell \n",
    "    Input: the  element of a table data cell extracts extra row\n",
    "    \"\"\"\n",
    "    out=[i for i in table_cells.strings][0]\n",
    "    return out\n",
    "\n",
    "\n",
    "def get_mass(table_cells):\n",
    "    mass=unicodedata.normalize(\"NFKD\", table_cells.text).strip()\n",
    "    if mass:\n",
    "        mass.find(\"kg\")\n",
    "        new_mass=mass[0:mass.find(\"kg\")+2]\n",
    "    else:\n",
    "        new_mass=0\n",
    "    return new_mass\n",
    "\n",
    "\n",
    "def extract_column_from_header(row):\n",
    "    \"\"\"\n",
    "    This function returns the landing status from the HTML table cell \n",
    "    Input: the  element of a table data cell extracts extra row\n",
    "    \"\"\"\n",
    "    if (row.br):\n",
    "        row.br.extract()\n",
    "    if row.a:\n",
    "        row.a.extract()\n",
    "    if row.sup:\n",
    "        row.sup.extract()\n",
    "        \n",
    "    colunm_name = ''.join(row.text)\n",
    "    \n",
    "    # Filter the digit and empty names\n",
    "    if not(colunm_name.strip().isdigit()):\n",
    "        colunm_name = colunm_name.strip()\n",
    "        return colunm_name    \n"
   ]
  },
  {
   "cell_type": "markdown",
   "metadata": {},
   "source": [
    "To keep the lab tasks consistent, you will be asked to scrape the data from a snapshot of the  `List of Falcon 9 and Falcon Heavy launches` Wikipage updated on\n",
    "`9th June 2021`\n"
   ]
  },
  {
   "cell_type": "code",
   "execution_count": 4,
   "metadata": {},
   "outputs": [],
   "source": [
    "static_url = \"https://en.wikipedia.org/w/index.php?title=List_of_Falcon_9_and_Falcon_Heavy_launches&oldid=1027686922\""
   ]
  },
  {
   "cell_type": "markdown",
   "metadata": {},
   "source": [
    "Next, request the HTML page from the above URL and get a `response` object\n"
   ]
  },
  {
   "cell_type": "markdown",
   "metadata": {},
   "source": [
    "### TASK 1: Request the Falcon9 Launch Wiki page from its URL\n"
   ]
  },
  {
   "cell_type": "markdown",
   "metadata": {},
   "source": [
    "First, let's perform an HTTP GET method to request the Falcon9 Launch HTML page, as an HTTP response.\n"
   ]
  },
  {
   "cell_type": "code",
   "execution_count": 5,
   "metadata": {},
   "outputs": [
    {
     "name": "stdout",
     "output_type": "stream",
     "text": [
      "200\n"
     ]
    }
   ],
   "source": [
    "# use requests.get() method with the provided static_url\n",
    "# assign the response to a object\n",
    "response = requests.get(static_url)\n",
    "print(response.status_code)"
   ]
  },
  {
   "cell_type": "markdown",
   "metadata": {},
   "source": [
    "Create a `BeautifulSoup` object from the HTML `response`\n"
   ]
  },
  {
   "cell_type": "code",
   "execution_count": 6,
   "metadata": {},
   "outputs": [],
   "source": [
    "# Use BeautifulSoup() to create a BeautifulSoup object from a response text content\n",
    "html_text = response.text\n",
    "soup = BeautifulSoup(html_text, 'html5lib')"
   ]
  },
  {
   "cell_type": "markdown",
   "metadata": {},
   "source": [
    "Print the page title to verify if the `BeautifulSoup` object was created properly \n"
   ]
  },
  {
   "cell_type": "code",
   "execution_count": 7,
   "metadata": {},
   "outputs": [
    {
     "data": {
      "text/plain": [
       "<title>List of Falcon 9 and Falcon Heavy launches - Wikipedia</title>"
      ]
     },
     "execution_count": 7,
     "metadata": {},
     "output_type": "execute_result"
    }
   ],
   "source": [
    "# Use soup.title attribute\n",
    "soup.title"
   ]
  },
  {
   "cell_type": "markdown",
   "metadata": {},
   "source": [
    "### TASK 2: Extract all column/variable names from the HTML table header\n"
   ]
  },
  {
   "cell_type": "markdown",
   "metadata": {},
   "source": [
    "Next, we want to collect all relevant column names from the HTML table header\n"
   ]
  },
  {
   "cell_type": "markdown",
   "metadata": {},
   "source": [
    "Let's try to find all tables on the wiki page first. If you need to refresh your memory about `BeautifulSoup`, please check the external reference link towards the end of this lab\n"
   ]
  },
  {
   "cell_type": "code",
   "execution_count": 8,
   "metadata": {},
   "outputs": [],
   "source": [
    "# Use the find_all function in the BeautifulSoup object, with element type `table`\n",
    "# Assign the result to a list called `html_tables`\n",
    "html_tables = soup.find_all('table')"
   ]
  },
  {
   "cell_type": "markdown",
   "metadata": {},
   "source": [
    "Starting from the third table is our target table contains the actual launch records.\n"
   ]
  },
  {
   "cell_type": "code",
   "execution_count": 9,
   "metadata": {},
   "outputs": [],
   "source": [
    "# Let's print the third table and check its content\n",
    "first_launch_table = html_tables[2]\n",
    "#print(first_launch_table.prettify())"
   ]
  },
  {
   "cell_type": "markdown",
   "metadata": {},
   "source": [
    "You should able to see the columns names embedded in the table header elements `<th>` as follows:\n"
   ]
  },
  {
   "cell_type": "markdown",
   "metadata": {},
   "source": [
    "```\n",
    "<tr>\n",
    "<th scope=\"col\">Flight No.\n",
    "</th>\n",
    "<th scope=\"col\">Date and<br/>time (<a href=\"/wiki/Coordinated_Universal_Time\" title=\"Coordinated Universal Time\">UTC</a>)\n",
    "</th>\n",
    "<th scope=\"col\"><a href=\"/wiki/List_of_Falcon_9_first-stage_boosters\" title=\"List of Falcon 9 first-stage boosters\">Version,<br/>Booster</a> <sup class=\"reference\" id=\"cite_ref-booster_11-0\"><a href=\"#cite_note-booster-11\">[b]</a></sup>\n",
    "</th>\n",
    "<th scope=\"col\">Launch site\n",
    "</th>\n",
    "<th scope=\"col\">Payload<sup class=\"reference\" id=\"cite_ref-Dragon_12-0\"><a href=\"#cite_note-Dragon-12\">[c]</a></sup>\n",
    "</th>\n",
    "<th scope=\"col\">Payload mass\n",
    "</th>\n",
    "<th scope=\"col\">Orbit\n",
    "</th>\n",
    "<th scope=\"col\">Customer\n",
    "</th>\n",
    "<th scope=\"col\">Launch<br/>outcome\n",
    "</th>\n",
    "<th scope=\"col\"><a href=\"/wiki/Falcon_9_first-stage_landing_tests\" title=\"Falcon 9 first-stage landing tests\">Booster<br/>landing</a>\n",
    "</th></tr>\n",
    "```\n"
   ]
  },
  {
   "cell_type": "markdown",
   "metadata": {},
   "source": [
    "Next, we just need to iterate through the `<th>` elements and apply the provided `extract_column_from_header()` to extract column name one by one\n"
   ]
  },
  {
   "cell_type": "code",
   "execution_count": 10,
   "metadata": {},
   "outputs": [
    {
     "data": {
      "text/plain": [
       "['Flight No.',\n",
       " 'Date andtime (UTC)',\n",
       " 'Version,Booster [b]',\n",
       " 'Launch site',\n",
       " 'Payload[c]',\n",
       " 'Payload mass',\n",
       " 'Orbit',\n",
       " 'Customer',\n",
       " 'Launchoutcome',\n",
       " 'Boosterlanding']"
      ]
     },
     "execution_count": 10,
     "metadata": {},
     "output_type": "execute_result"
    }
   ],
   "source": [
    "column_names = []\n",
    "\n",
    "# Apply find_all() function with `th` element on first_launch_table\n",
    "# Iterate each th element and apply the provided extract_column_from_header() to get a column name\n",
    "# Append the Non-empty column name (`if name is not None and len(name) > 0`) into a list called column_names\n",
    "\n",
    "for nextheader in first_launch_table.find_all('th', attrs={\"scope\": \"col\"}):\n",
    "    htext = nextheader.text.removesuffix('\\n')\n",
    "    column_names.append(htext)\n",
    "\n",
    "column_names"
   ]
  },
  {
   "cell_type": "markdown",
   "metadata": {},
   "source": [
    "Check the extracted column names\n"
   ]
  },
  {
   "cell_type": "code",
   "execution_count": 11,
   "metadata": {},
   "outputs": [
    {
     "name": "stdout",
     "output_type": "stream",
     "text": [
      "['Flight No.', 'Date andtime (UTC)', 'Version,Booster [b]', 'Launch site', 'Payload[c]', 'Payload mass', 'Orbit', 'Customer', 'Launchoutcome', 'Boosterlanding']\n"
     ]
    }
   ],
   "source": [
    "print(column_names)"
   ]
  },
  {
   "cell_type": "markdown",
   "metadata": {},
   "source": [
    "## TASK 3: Create a data frame by parsing the launch HTML tables\n"
   ]
  },
  {
   "cell_type": "markdown",
   "metadata": {},
   "source": [
    "We will create an empty dictionary with keys from the extracted column names in the previous task. Later, this dictionary will be converted into a Pandas dataframe\n"
   ]
  },
  {
   "cell_type": "code",
   "execution_count": 12,
   "metadata": {},
   "outputs": [],
   "source": [
    "launch_dict= dict.fromkeys(column_names)\n",
    "\n",
    "# Remove an irrelvant column\n",
    "del launch_dict['Date andtime (UTC)']\n",
    "del launch_dict['Version,Booster [b]']\n",
    "del launch_dict['Launchoutcome']\n",
    "del launch_dict['Boosterlanding']\n",
    "del launch_dict['Payload[c]']\n",
    "\n",
    "# Let's initial the launch_dict with each value to be an empty list\n",
    "launch_dict['Flight No.'] = []\n",
    "launch_dict['Launch site'] = []\n",
    "launch_dict['Payload mass'] = []\n",
    "launch_dict['Orbit'] = []\n",
    "launch_dict['Customer'] = []\n",
    "\n",
    "# Added some new columns\n",
    "launch_dict['Payload'] = []\n",
    "launch_dict['Launch outcome'] = []\n",
    "launch_dict['Version Booster']=[]\n",
    "launch_dict['Booster landing']=[]\n",
    "launch_dict['Date']=[]\n",
    "launch_dict['Time']=[]"
   ]
  },
  {
   "cell_type": "markdown",
   "metadata": {},
   "source": [
    "Next, we just need to fill up the `launch_dict` with launch records extracted from table rows.\n"
   ]
  },
  {
   "cell_type": "markdown",
   "metadata": {},
   "source": [
    "Usually, HTML tables in Wiki pages are likely to contain unexpected annotations and other types of noises, such as reference links `B0004.1[8]`, missing values `N/A [e]`, inconsistent formatting, etc.\n"
   ]
  },
  {
   "cell_type": "markdown",
   "metadata": {},
   "source": [
    "To simplify the parsing process, we have provided an incomplete code snippet below to help you to fill up the `launch_dict`. Please complete the following code snippet with TODOs or you can choose to write your own logic to parse all launch tables:\n"
   ]
  },
  {
   "cell_type": "code",
   "execution_count": 18,
   "metadata": {},
   "outputs": [
    {
     "name": "stdout",
     "output_type": "stream",
     "text": [
      "1 4 June 2010 18:45 F9 v1.0B0003.1 CCAFS Dragon Spacecraft Qualification Unit Dragon Spacecraft Qualification Unit LEO SpaceX Success\n",
      " Failure\n",
      "2 8 December 2010 15:43 F9 v1.0B0004.1 CCAFS Dragon Dragon LEO NASA Success Failure\n",
      "3 22 May 2012 07:44 F9 v1.0B0005.1 CCAFS Dragon Dragon LEO NASA Success No attempt\n",
      "\n",
      "4 8 October 2012 00:35 F9 v1.0B0006.1 CCAFS SpaceX CRS-1 SpaceX CRS-1 LEO NASA Success\n",
      " No attempt\n",
      "5 1 March 2013 15:10 F9 v1.0B0007.1 CCAFS SpaceX CRS-2 SpaceX CRS-2 LEO NASA Success\n",
      " No attempt\n",
      "\n",
      "6 29 September 2013 16:00 F9 v1.1B1003 VAFB CASSIOPE CASSIOPE Polar orbit MDA Success Uncontrolled\n",
      "7 3 December 2013 22:41 F9 v1.1 CCAFS SES-8 SES-8 GTO SES Success No attempt\n",
      "8 6 January 2014 22:06 F9 v1.1 CCAFS Thaicom 6 Thaicom 6 GTO Thaicom Success No attempt\n",
      "9 18 April 2014 19:25 F9 v1.1 Cape Canaveral SpaceX CRS-3 SpaceX CRS-3 LEO NASA Success\n",
      " Controlled\n",
      "10 14 July 2014 15:15 F9 v1.1 Cape Canaveral Orbcomm-OG2 Orbcomm-OG2 LEO Orbcomm Success Controlled\n",
      "11 5 August 2014 08:00 F9 v1.1 Cape Canaveral AsiaSat 8 AsiaSat 8 GTO AsiaSat Success No attempt\n",
      "12 7 September 2014 05:00 F9 v1.1 Cape Canaveral AsiaSat 6 AsiaSat 6 GTO AsiaSat Success No attempt\n",
      "\n",
      "13 21 September 2014 05:52 F9 v1.1 Cape Canaveral SpaceX CRS-4 SpaceX CRS-4 LEO NASA Success Uncontrolled\n",
      "14 10 January 2015 09:47 F9 v1.1 Cape Canaveral SpaceX CRS-5 SpaceX CRS-5 LEO NASA Success Failure \n",
      "15 11 February 2015 23:03 F9 v1.1 Cape Canaveral DSCOVR DSCOVR HEO USAF Success\n",
      " Controlled\n",
      "16 2 March 2015 03:50 F9 v1.1 Cape Canaveral ABS-3A ABS-3A GTO ABS Success\n",
      " No attempt\n",
      "17 14 April 2015 20:10 F9 v1.1 Cape Canaveral SpaceX CRS-6 SpaceX CRS-6 LEO NASA Success\n",
      " Failure\n",
      "18 27 April 2015 23:03 F9 v1.1 Cape Canaveral TürkmenÄlem 52°E / MonacoSAT TürkmenÄlem 52°E / MonacoSAT GTO None Success\n",
      " No attempt\n",
      "19 28 June 2015 14:21 F9 v1.1 Cape Canaveral SpaceX CRS-7 SpaceX CRS-7 LEO NASA Failure Precluded\n",
      "20 22 December 2015 01:29 F9 FT Cape Canaveral Orbcomm-OG2 Orbcomm-OG2 LEO Orbcomm Success\n",
      " Success\n",
      "21 17 January 2016 18:42 F9 v1.1 VAFB Jason-3 Jason-3 LEO NASA Success\n",
      " Failure\n",
      "22 4 March 2016 23:35 F9 FT Cape Canaveral SES-9 SES-9 GTO SES Success\n",
      " Failure\n",
      "23 8 April 2016 20:43 F9 FT Cape Canaveral SpaceX CRS-8 SpaceX CRS-8 LEO NASA Success Success\n",
      "24 6 May 2016 05:21 F9 FT Cape Canaveral JCSAT-14 JCSAT-14 GTO SKY Perfect JSAT Group Success\n",
      " Success\n",
      "25 27 May 2016 21:39 F9 FT Cape Canaveral Thaicom 8 Thaicom 8 GTO Thaicom Success\n",
      " Success\n",
      "26 15 June 2016 14:29 F9 FT Cape Canaveral ABS-2A ABS-2A GTO ABS Success\n",
      " Failure\n",
      "27 18 July 2016 04:45 F9 FT Cape Canaveral SpaceX CRS-9 SpaceX CRS-9 LEO NASA Success\n",
      " Success\n",
      "28 14 August 2016 05:26 F9 FT Cape Canaveral JCSAT-16 JCSAT-16 GTO SKY Perfect JSAT Group Success\n",
      " Success\n",
      "29 14 January 2017 17:54 F9 FT VAFB Iridium NEXT Iridium NEXT Polar Iridium Communications Success\n",
      " Success\n",
      "30 19 February 2017 14:39 F9 FT KSC SpaceX CRS-10 SpaceX CRS-10 LEO NASA Success\n",
      " Success\n",
      "31 16 March 2017 06:00 F9 FT KSC EchoStar 23 EchoStar 23 GTO EchoStar Success\n",
      " No attempt\n",
      "32 30 March 2017 22:27 F9 FT♺ KSC SES-10 SES-10 GTO SES Success Success\n",
      "33 1 May 2017 11:15 F9 FT KSC NROL-76 NROL-76 LEO NRO Success\n",
      " Success\n",
      "34 15 May 2017 23:21 F9 FT KSC Inmarsat-5 F4 Inmarsat-5 F4 GTO Inmarsat Success\n",
      " No attempt\n",
      "35 3 June 2017 21:07 F9 FT KSC SpaceX CRS-11 SpaceX CRS-11 LEO NASA Success\n",
      " Success\n",
      "36 23 June 2017 19:10 F9 FTB1029.2 KSC BulgariaSat-1 BulgariaSat-1 GTO Bulsatcom Success\n",
      " Success\n",
      "37 25 June 2017 20:25 F9 FT VAFB Iridium NEXT Iridium NEXT LEO Iridium Communications Success\n",
      " Success\n",
      "38 5 July 2017 23:38 F9 FT KSC Intelsat 35e Intelsat 35e GTO Intelsat Success\n",
      " No attempt\n",
      "39 14 August 2017 16:31 F9 B4 KSC SpaceX CRS-12 SpaceX CRS-12 LEO NASA Success\n",
      " Success\n",
      "40 24 August 2017 18:51 F9 FT VAFB Formosat-5 Formosat-5 SSO NSPO Success\n",
      " Success\n",
      "41 7 September 2017 14:00 F9 B4 KSC Boeing X-37B Boeing X-37B LEO USAF Success\n",
      " Success\n",
      "42 9 October 2017 12:37 F9 B4 VAFB Iridium NEXT Iridium NEXT Polar Iridium Communications Success\n",
      " Success\n",
      "43 11 October 2017 22:53:00 F9 FTB1031.2 KSC SES-11 SES-11 GTO SES S.A. Success\n",
      " Success\n",
      "44 30 October 2017 19:34 F9 B4 KSC Koreasat 5A Koreasat 5A GTO KT Corporation Success\n",
      " Success\n",
      "45 15 December 2017 15:36 F9 FTB1035.2 Cape Canaveral SpaceX CRS-13 SpaceX CRS-13 LEO NASA Success\n",
      " Success\n",
      "46 23 December 2017 01:27 F9 FTB1036.2 VAFB Iridium NEXT Iridium NEXT Polar Iridium Communications Success Controlled\n",
      "47 8 January 2018 01:00 F9 B4 CCAFS Zuma Zuma LEO Northrop Grumman Success Success\n",
      "48 31 January 2018 21:25 F9 FTB1032.2 CCAFS GovSat-1 GovSat-1 GTO SES Success Controlled\n",
      "49 22 February 2018 14:17 F9 FTB1038.2 VAFB Paz Paz SSO Hisdesat Success No attempt\n",
      "50 6 March 2018 05:33 F9 B4 CCAFS Hispasat 30W-6 Hispasat 30W-6 GTO Hispasat Success No attempt\n",
      "51 30 March 2018 14:14 F9 B4B1041.2 VAFB Iridium NEXT Iridium NEXT Polar Iridium Communications Success No attempt\n",
      "52 2 April 2018 20:30 F9 B4B1039.2 CCAFS SpaceX CRS-14 SpaceX CRS-14 LEO NASA Success No attempt\n",
      "53 18 April 2018 22:51 F9 B4 CCAFS Transiting Exoplanet Survey Satellite Transiting Exoplanet Survey Satellite HEO NASA Success Success\n",
      "54 11 May 2018 20:14 F9 B5B1046.1 KSC Bangabandhu-1 Bangabandhu-1 GTO Thales-Alenia Success Success\n",
      "55 22 May 2018 19:47 F9 B4B1043.2 VAFB Iridium NEXT Iridium NEXT Polar Iridium Communications Success No attempt\n",
      "56 4 June 2018 04:45 F9 B4B1040.2 CCAFS SES-12 SES-12 GTO SES Success No attempt\n",
      "57 29 June 2018 09:42 F9 B4B1045.2 CCAFS SpaceX CRS-15 SpaceX CRS-15 LEO NASA Success No attempt\n",
      "58 22 July 2018 05:50 F9 B5 CCAFS Telstar 19V Telstar 19V GTO Telesat Success Success\n",
      "59 25 July 2018 11:39 F9 B5B1048 VAFB Iridium NEXT Iridium NEXT Polar Iridium Communications Success Success\n",
      "60 7 August 2018 05:18 F9 B5B1046.2 CCAFS Merah Putih Merah Putih GTO Telkom Indonesia Success Success\n",
      "61 10 September 2018 04:45 F9 B5 CCAFS Telstar 18V Telstar 18V GTO Telesat Success Success\n",
      "62 8 October 2018 02:22 F9 B5B1048.2 VAFB SAOCOM 1A SAOCOM 1A SSO CONAE Success Success\n",
      "63 15 November 2018 20:46 F9 B5B1047.2 KSC Es'hail 2 Es'hail 2 GTO Es'hailSat Success Success\n",
      "64 3 December 2018 18:34:05 F9 B5B1046.3 VAFB SSO-A SSO-A SSO Spaceflight Industries Success Success\n",
      "65 5 December 2018 18:16 F9 B5 CCAFS SpaceX CRS-16 SpaceX CRS-16 LEO NASA Success\n",
      " Failure\n",
      "66 23 December 2018 13:51 F9 B5 CCAFS GPS III GPS III MEO USAF Success No attempt\n",
      "67 11 January 2019 15:31 F9 B5B1049.2 VAFB Iridium NEXT Iridium NEXT Polar Iridium Communications Success\n",
      " Success\n",
      "68 22 February 2019 01:45 F9 B5B1048.3 CCAFS Nusantara Satu Nusantara Satu GTO PSN Success\n",
      " Success\n",
      "69 2 March 2019 07:49 F9 B5[268] KSC Crew Dragon Demo-1 Crew Dragon Demo-1 LEO NASA Success\n",
      " Success\n",
      "70 4 May 2019 06:48 F9 B5 CCAFS SpaceX CRS-17 SpaceX CRS-17 LEO NASA Success\n",
      " Success\n",
      "71 24 May 2019 02:30 F9 B5B1049.3 CCAFS Starlink Starlink LEO SpaceX Success\n",
      " Success\n",
      "72 12 June 2019 14:17 F9 B5B1051.2 VAFB RADARSAT Constellation RADARSAT Constellation SSO Canadian Space Agency Success\n",
      " Success\n",
      "73 25 July 2019 22:01 F9 B5B1056.2 CCAFS SpaceX CRS-18 SpaceX CRS-18 LEO NASA Success\n",
      " Success\n",
      "74 6 August 2019 23:23 F9 B5B1047.3 CCAFS AMOS-17 AMOS-17 GTO Spacecom Success\n",
      " No attempt\n",
      "75 11 November 2019 14:56 F9 B5 CCAFS Starlink Starlink LEO SpaceX Success\n",
      " Success\n",
      "76 5 December 2019 17:29 F9 B5 CCAFS SpaceX CRS-19 SpaceX CRS-19 LEO NASA Success\n",
      " Success\n",
      "77 17 December 2019 00:10 F9 B5B1056.3 CCAFS JCSat-18 JCSat-18 GTO Sky Perfect JSAT Success\n",
      " Success\n",
      "78 7 January 2020 02:19:21 F9 B5 CCAFS Starlink Starlink LEO SpaceX Success\n",
      " Success\n",
      "79 19 January 2020 15:30 F9 B5 KSC Crew Dragon in-flight abort test Crew Dragon in-flight abort test Sub-orbital NASA Success\n",
      " No attempt\n",
      "\n",
      "80 29 January 2020 14:07 F9 B5 CCAFS Starlink Starlink LEO SpaceX Success\n",
      " Success\n",
      "81 17 February 2020 15:05 F9 B5 CCAFS Starlink Starlink LEO SpaceX Success\n",
      " Failure\n",
      "82 7 March 2020 04:50 F9 B5 CCAFS SpaceX CRS-20 SpaceX CRS-20 LEO NASA Success\n",
      " Success\n",
      "83 18 March 2020 12:16 F9 B5 KSC Starlink Starlink LEO SpaceX Success\n",
      " Failure\n",
      "84 22 April 2020 19:30 F9 B5 KSC Starlink Starlink LEO SpaceX Success\n",
      " Success\n",
      "85 30 May 2020 19:22 F9 B5 KSC Crew Dragon Demo-2 Crew Dragon Demo-2 LEO NASA Success\n",
      " Success\n",
      "86 4 June 2020 01:25 F9 B5 CCAFS Starlink Starlink LEO SpaceX Success\n",
      " Success\n",
      "87 13 June 2020 09:21 F9 B5 CCAFS Starlink Starlink LEO SpaceX Success\n",
      " Success\n",
      "88 30 June 2020 20:10:46 F9 B5 CCAFS GPS III GPS III MEO U.S. Space Force Success\n",
      " Success\n",
      "89 20 July 2020 21:30 F9 B5B1058.2 CCAFS ANASIS-II ANASIS-II GTO Republic of Korea Army Success\n",
      " Success\n",
      "90 7 August 2020 05:12 F9 B5 KSC Starlink Starlink LEO SpaceX Success\n",
      " Success\n",
      "91 18 August 2020 14:31 F9 B5B1049.6 CCAFS Starlink Starlink LEO SpaceX Success\n",
      " Success\n",
      "92 30 August 2020 23:18 F9 B5 CCAFS SAOCOM 1B SAOCOM 1B SSO CONAE Success\n",
      " Success\n",
      "93 3 September 2020 12:46:14 F9 B5B1060.2 KSC Starlink Starlink LEO SpaceX Success\n",
      " Success\n",
      "94 6 October 2020 11:29:34 F9 B5B1058.3 KSC Starlink Starlink LEO SpaceX Success\n",
      " Success\n",
      "95 18 October 2020 12:25:57 F9 B5B1051.6 KSC Starlink Starlink LEO SpaceX Success\n",
      " Success\n",
      "96 24 October 2020 15:31:34 F9 B5 CCAFS Starlink Starlink LEO SpaceX Success\n",
      " Success\n",
      "97 5 November 2020 23:24:23 F9 B5 CCAFS GPS III GPS III MEO USSF Success\n",
      " Success\n",
      "98 16 November 2020 00:27 F9 B5 KSC Crew-1 Crew-1 LEO NASA Success\n",
      " Success\n",
      "99 21 November 2020 17:17:08 F9 B5 VAFB Sentinel-6 Michael Freilich (Jason-CS A) Sentinel-6 Michael Freilich (Jason-CS A) LEO NASA Success\n",
      " Success\n",
      "100 25 November 2020 02:13 F9 B5 ♺ CCAFS Starlink Starlink LEO SpaceX Success\n",
      " Success\n",
      "101 6 December 2020 16:17:08 F9 B5 ♺ KSC SpaceX CRS-21 SpaceX CRS-21 LEO NASA Success\n",
      " Success\n",
      "102 13 December 2020 17:30:00 F9 B5 ♺ CCSFS SXM-7 SXM-7 GTO Sirius XM Success\n",
      " Success\n",
      "103 19 December 2020 14:00:00 F9 B5 ♺ KSC NROL-108 NROL-108 LEO NRO Success\n",
      " Success\n",
      "104 8 January 2021 02:15 F9 B5 CCSFS Türksat 5A Türksat 5A GTO Türksat Success\n",
      " Success\n",
      "105 20 January 2021 13:02 F9 B5B1051.8 KSC Starlink Starlink LEO SpaceX Success\n",
      " Success\n",
      "106 24 January 2021 15:00 F9 B5B1058.5 CCSFS Transporter-1 Transporter-1 SSO SpaceX Success\n",
      " Success\n",
      "107 4 February 2021 06:19 F9 B5 ♺ CCSFS Starlink Starlink LEO SpaceX Success\n",
      " Success\n",
      "108 16 February 2021 03:59:37 F9 B5 ♺ CCSFS Starlink Starlink LEO SpaceX Success\n",
      " Failure\n",
      "109 4 March 2021 08:24 F9 B5 ♺ KSC Starlink Starlink LEO SpaceX Success\n",
      " Success\n",
      "110 11 March 2021 08:13:29 F9 B5 ♺ CCSFS Starlink Starlink LEO SpaceX Success\n",
      " Success\n",
      "111 14 March 2021 10:01 F9 B5 ♺ KSC Starlink Starlink LEO SpaceX Success\n",
      " Success\n",
      "112 24 March 2021 08:28 F9 B5B1060.6 CCSFS Starlink Starlink LEO SpaceX Success\n",
      " Success\n",
      "113 7 April 2021 16:34 F9 B5 ♺ CCSFS Starlink Starlink LEO SpaceX Success\n",
      " Success\n",
      "114 23 April 2021 9:49 F9 B5B1061.2 KSC Crew-2 Crew-2 LEO NASA Success\n",
      " Success\n",
      "115 29 April 2021 03:44 F9 B5B1060.7 CCSFS Starlink Starlink LEO SpaceX Success\n",
      " Success\n",
      "116 4 May 2021 19:01 F9 B5B1049.9 KSC Starlink Starlink LEO SpaceX Success\n",
      " Success\n",
      "117 9 May 2021 06:42 F9 B5B1051.10 CCSFS Starlink Starlink LEO SpaceX Success\n",
      " Success\n",
      "118 15 May 2021 22:56 F9 B5B1058.8 KSC Starlink Starlink LEO SpaceX Success\n",
      " Success\n",
      "119 26 May 2021 18:59 F9 B5B1063.2 CCSFS Starlink Starlink LEO SpaceX Success\n",
      " Success\n",
      "120 3 June 2021 17:29 F9 B5B1067.1 KSC SpaceX CRS-22 SpaceX CRS-22 LEO NASA Success\n",
      " Success\n",
      "121 6 June 2021 04:26 F9 B5 CCSFS SXM-8 SXM-8 GTO Sirius XM Success\n",
      " Success\n"
     ]
    }
   ],
   "source": [
    "extracted_row = 0\n",
    "\n",
    "#Extract each table \n",
    "for table_number,table in enumerate(soup.find_all('table',\"wikitable plainrowheaders collapsible\")):\n",
    "   # get table row \n",
    "    for row in table.find_all(\"tr\"):\n",
    "        #check to see if first table heading is as number corresponding to launch a number \n",
    "        if row.th:\n",
    "            if row.th.string:\n",
    "                flight_number=row.th.string.strip()\n",
    "                flag=flight_number.isdigit()\n",
    "                if flag:\n",
    "                    # Flight Number value\n",
    "                    # TODO: Append the flight_number into launch_dict with key `Flight No.`\n",
    "                    launch_dict['Flight No.'].append(flight_number)\n",
    "                    print(flight_number, end = ' ')\n",
    "        else:\n",
    "            flag=False\n",
    "        \n",
    "        #if it is number save cells in a dictonary \n",
    "        if flag:\n",
    "            #get table element \n",
    "            columns = row.find_all('td')\n",
    "            extracted_row += 1\n",
    "            \n",
    "            # Date value\n",
    "            # TODO: Append the date into launch_dict with key `Date`\n",
    "            datatimelist = date_time(columns[0])\n",
    "            date = datatimelist[0].strip(',')\n",
    "            launch_dict['Date'].append(date)\n",
    "            print(date, end = ' ')\n",
    "            \n",
    "            # Time value\n",
    "            # TODO: Append the time into launch_dict with key `Time`\n",
    "            time = datatimelist[1]\n",
    "            launch_dict['Time'].append(time)\n",
    "            print(time, end = ' ')\n",
    "              \n",
    "            # Booster version\n",
    "            # TODO: Append the bv into launch_dict with key `Version Booster`\n",
    "            bv = booster_version(columns[1])\n",
    "            if not bv:\n",
    "                bv = columns[1].a.string\n",
    "            launch_dict['Version Booster'].append(bv)\n",
    "            print(bv, end = ' ')\n",
    "            \n",
    "            # Launch Site\n",
    "            # TODO: Append the bv into launch_dict with key `Launch Site`\n",
    "            launch_site = columns[2].a.string\n",
    "            launch_dict['Launch site'].append(launch_site)\n",
    "            print(launch_site, end = ' ')\n",
    "            \n",
    "            # Payload\n",
    "            # TODO: Append the payload into launch_dict with key `Payload`\n",
    "            payload = columns[3].a.string\n",
    "            launch_dict['Payload'].append(payload)\n",
    "            print(payload, end = ' ')\n",
    "            \n",
    "            # Payload Mass\n",
    "            # TODO: Append the payload_mass into launch_dict with key `Payload mass`\n",
    "            payload_mass = get_mass(columns[4])\n",
    "            launch_dict['Payload mass'].append(payload_mass)\n",
    "            print(payload, end = ' ')\n",
    "            \n",
    "            # Orbit\n",
    "            # TODO: Append the orbit into launch_dict with key `Orbit`\n",
    "            orbit = columns[5].a.string\n",
    "            launch_dict['Orbit'].append(orbit)\n",
    "            print(orbit, end = ' ')\n",
    "            \n",
    "            # Customer\n",
    "            # TODO: Append the customer into launch_dict with key `Customer`\n",
    "            if columns[6].a:\n",
    "                customer = columns[6].a.string\n",
    "                launch_dict['Customer'].append(customer)\n",
    "            else:\n",
    "                launch_dict['Customer'].append('None')\n",
    "            print(customer, end = ' ')\n",
    "            \n",
    "            # Launch outcome\n",
    "            # TODO: Append the launch_outcome into launch_dict with key `Launch outcome`\n",
    "            launch_outcome = list(columns[7].strings)[0]\n",
    "            launch_dict['Launch outcome'].append(launch_outcome)\n",
    "            print(launch_outcome, end = ' ')\n",
    "            \n",
    "            # Booster landing\n",
    "            # TODO: Append the launch_outcome into launch_dict with key `Booster landing`\n",
    "            booster_landing = landing_status(columns[8])\n",
    "            launch_dict['Booster landing'].append(booster_landing)\n",
    "            print(booster_landing)\n",
    "            "
   ]
  },
  {
   "cell_type": "markdown",
   "metadata": {},
   "source": [
    "After you have fill in the parsed launch record values into `launch_dict`, you can create a dataframe from it.\n"
   ]
  },
  {
   "cell_type": "code",
   "execution_count": 19,
   "metadata": {},
   "outputs": [],
   "source": [
    "df= pd.DataFrame({ key:pd.Series(value) for key, value in launch_dict.items() })"
   ]
  },
  {
   "cell_type": "markdown",
   "metadata": {},
   "source": [
    "We can now export it to a <b>CSV</b> for the next section, but to make the answers consistent and in case you have difficulties finishing this lab. \n",
    "\n",
    "Following labs will be using a provided dataset to make each lab independent. \n"
   ]
  },
  {
   "cell_type": "code",
   "execution_count": 20,
   "metadata": {},
   "outputs": [],
   "source": [
    "df.to_csv('spacex_web_scraped.csv', index=False)\n"
   ]
  },
  {
   "cell_type": "markdown",
   "metadata": {},
   "source": [
    "## Authors\n"
   ]
  },
  {
   "cell_type": "markdown",
   "metadata": {},
   "source": [
    "<a href=\"https://www.linkedin.com/in/yan-luo-96288783/\">Yan Luo</a>\n"
   ]
  },
  {
   "cell_type": "markdown",
   "metadata": {},
   "source": [
    "<a href=\"https://www.linkedin.com/in/nayefaboutayoun/\">Nayef Abou Tayoun</a>\n"
   ]
  },
  {
   "cell_type": "markdown",
   "metadata": {},
   "source": [
    "## Change Log\n"
   ]
  },
  {
   "cell_type": "markdown",
   "metadata": {},
   "source": [
    "| Date (YYYY-MM-DD) | Version | Changed By | Change Description      |\n",
    "| ----------------- | ------- | ---------- | ----------------------- |\n",
    "| 2021-06-09        | 1.0     | Yan Luo    | Tasks updates           |\n",
    "| 2020-11-10        | 1.0     | Nayef      | Created the initial version |\n"
   ]
  },
  {
   "cell_type": "markdown",
   "metadata": {},
   "source": [
    "Copyright © 2021 IBM Corporation. All rights reserved.\n"
   ]
  }
 ],
 "metadata": {
  "kernelspec": {
   "display_name": "Python 3 (ipykernel)",
   "language": "python",
   "name": "python3"
  },
  "language_info": {
   "codemirror_mode": {
    "name": "ipython",
    "version": 3
   },
   "file_extension": ".py",
   "mimetype": "text/x-python",
   "name": "python",
   "nbconvert_exporter": "python",
   "pygments_lexer": "ipython3",
   "version": "3.12.2"
  }
 },
 "nbformat": 4,
 "nbformat_minor": 4
}
